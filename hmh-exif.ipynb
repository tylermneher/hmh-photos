{
 "cells": [
  {
   "cell_type": "code",
   "execution_count": 15,
   "id": "813837fd-ebe8-4df8-a42f-234dded205bf",
   "metadata": {
    "tags": []
   },
   "outputs": [],
   "source": [
    "import pandas as pd\n",
    "import os\n",
    "import exifread as efr\n",
    "from datetime import datetime\n",
    "\n",
    "# https://gist.github.com/snakeye/fdc372dbf11370fe29eb\n",
    "\n",
    "\n",
    "def _convert_to_degress(value):\n",
    "    \"\"\"\n",
    "    Helper function to convert the GPS coordinates stored in the EXIF to degress in float format\n",
    "    :param value:\n",
    "    :type value: exifread.utils.Ratio\n",
    "    :rtype: float\n",
    "    \"\"\"\n",
    "    d = float(value.values[0].num) / float(value.values[0].den)\n",
    "    m = float(value.values[1].num) / float(value.values[1].den)\n",
    "    s = float(value.values[2].num) / float(value.values[2].den)\n",
    "\n",
    "    return d + (m / 60.0) + (s / 3600.0)\n",
    "\n",
    "\n",
    "def getGPS(filepath):\n",
    "    '''\n",
    "    returns gps data if present other wise returns empty dictionary\n",
    "    '''\n",
    "    with open(filepath, 'rb') as f:\n",
    "        tags = efr.process_file(f)\n",
    "        latitude = tags.get('GPS GPSLatitude')\n",
    "        latitude_ref = tags.get('GPS GPSLatitudeRef')\n",
    "        longitude = tags.get('GPS GPSLongitude')\n",
    "        longitude_ref = tags.get('GPS GPSLongitudeRef')\n",
    "        if latitude:\n",
    "            lat_value = _convert_to_degress(latitude)\n",
    "            if latitude_ref.values != 'N':\n",
    "                lat_value = -lat_value\n",
    "        else:\n",
    "            return {}\n",
    "        if longitude:\n",
    "            lon_value = _convert_to_degress(longitude)\n",
    "            if longitude_ref.values != 'E':\n",
    "                lon_value = -lon_value\n",
    "        else:\n",
    "            return {}\n",
    "        return {'latitude': lat_value, 'longitude': lon_value}\n",
    "    return {}"
   ]
  },
  {
   "cell_type": "code",
   "execution_count": 16,
   "id": "ae9e23ac-5971-4f21-a7e9-edb645c78247",
   "metadata": {
    "tags": []
   },
   "outputs": [],
   "source": [
    "# set directory\n",
    "directory = \"photos_original\"\n",
    "photos = []\n",
    "photos_names = []\n",
    "lat_gps = []\n",
    "lon_gps = []"
   ]
  },
  {
   "cell_type": "code",
   "execution_count": 17,
   "id": "e40d1a8f-e72e-4940-aa8e-04232f44c500",
   "metadata": {
    "scrolled": true,
    "tags": []
   },
   "outputs": [
    {
     "name": "stderr",
     "output_type": "stream",
     "text": [
      "File format not recognized.\n",
      "File format not recognized.\n"
     ]
    },
    {
     "name": "stderr",
     "output_type": "stream",
     "text": [
      "Possibly corrupted field Tag 0x001A in MakerNote IFD\n",
      "Possibly corrupted field Tag 0x001A in MakerNote IFD\n",
      "Possibly corrupted field Tag 0x001A in MakerNote IFD\n",
      "Possibly corrupted field Tag 0x001A in MakerNote IFD\n",
      "Possibly corrupted field Tag 0x001A in MakerNote IFD\n",
      "Possibly corrupted field Tag 0x001A in MakerNote IFD\n"
     ]
    },
    {
     "name": "stdout",
     "output_type": "stream",
     "text": [
      "latitude error\n",
      "longitude error\n",
      "latitude error\n",
      "longitude error\n",
      "latitude error\n",
      "longitude error\n",
      "latitude error\n",
      "longitude error\n",
      "latitude error\n",
      "longitude error\n",
      "latitude error\n",
      "longitude error\n"
     ]
    }
   ],
   "source": [
    "# iterate over files in that directory\n",
    "for filename in os.listdir(directory):\n",
    "    f = os.path.join(directory, filename)\n",
    "    # checking if it is a file\n",
    "    if os.path.isfile(f):\n",
    "        with open(f, \"rb\") as photo:\n",
    "            tags = efr.process_file(photo)\n",
    "            photos.append(tags)\n",
    "            gps = getGPS(f)\n",
    "            try:\n",
    "                photos_names.append(f.title())\n",
    "            except:\n",
    "                print(\"title error\")\n",
    "                photos_names.append(\"NaN\")\n",
    "            try:\n",
    "                lat_gps.append(gps['latitude'])\n",
    "            except:\n",
    "                print(\"latitude error\")\n",
    "                lat_gps.append(\"NaN\")\n",
    "            try:\n",
    "                lon_gps.append(gps['longitude'])\n",
    "            except:\n",
    "                print(\"longitude error\")\n",
    "                lon_gps.append(\"NaN\")"
   ]
  },
  {
   "cell_type": "code",
   "execution_count": 18,
   "id": "677214e2-4299-4089-973f-43edc1c6034e",
   "metadata": {
    "scrolled": true
   },
   "outputs": [],
   "source": [
    "photos_df = pd.DataFrame(photos)\n",
    "\n",
    "photos_df['title'] = photos_names\n",
    "photos_df['latitude'] = lat_gps\n",
    "photos_df['longitude'] = lon_gps\n",
    "\n",
    "photos_datetime = []\n",
    "photos_date = []\n",
    "photos_time = []\n",
    "photos_combo = []\n",
    "photos_name = []\n",
    "\n",
    "# 2019:03:14 13:54:11\n",
    "for index, row in photos_df.iterrows():\n",
    "    dt_str = str(row['EXIF DateTimeOriginal']).replace(\":\", \"\")\n",
    "    photo_name = str(row['title']).replace(\"Photos_Original/\", \"\")\n",
    "    photos_name.append(photo_name.lower())\n",
    "    d_split = dt_str.split()\n",
    "    photos_datetime.append(d_split)\n",
    "\n",
    "for i in photos_datetime:\n",
    "    try:\n",
    "        photos_date.append(i[0])\n",
    "    except:\n",
    "        photos_date.append(\"NaN\")\n",
    "    try:\n",
    "        photos_time.append(i[1])\n",
    "    except:\n",
    "        photos_time.append(\"NaN\")\n",
    "    try:\n",
    "        photos_combo.append(i[0] + ' ' + i[1])\n",
    "    except:\n",
    "        photos_combo.append(\"NaN\")\n",
    "\n",
    "photos_df['datetime'] = pd.to_datetime(photos_combo, format=\"%Y%m%d %H%M%S\")\n",
    "photos_df['name'] = photos_name"
   ]
  },
  {
   "cell_type": "code",
   "execution_count": 19,
   "id": "23dae165-8039-42ca-a395-5584cd72c4ca",
   "metadata": {
    "scrolled": true
   },
   "outputs": [
    {
     "data": {
      "text/plain": [
       "Index(['Image Make', 'Image Model', 'Image Orientation', 'Image XResolution',\n",
       "       'Image YResolution', 'Image ResolutionUnit', 'Image Software',\n",
       "       'Image DateTime', 'Image TileWidth', 'Image TileLength',\n",
       "       ...\n",
       "       'MakerNote Tag 0x0028', 'MakerNote Tag 0x0012', 'EXIF CustomRendered',\n",
       "       'EXIF DigitalZoomRatio', 'MakerNote HDRImageType', 'title', 'latitude',\n",
       "       'longitude', 'datetime', 'name'],\n",
       "      dtype='object', length=107)"
      ]
     },
     "execution_count": 19,
     "metadata": {},
     "output_type": "execute_result"
    }
   ],
   "source": [
    "photos_df.columns"
   ]
  },
  {
   "cell_type": "code",
   "execution_count": 20,
   "id": "d511dc37-53d8-42e9-b2e9-5962c0d52110",
   "metadata": {},
   "outputs": [],
   "source": [
    "photos_important_info_cols = ['name', 'datetime', 'latitude', 'longitude']\n",
    "photos_important_info_df = pd.DataFrame(\n",
    "    photos_df, columns=photos_important_info_cols)"
   ]
  },
  {
   "cell_type": "code",
   "execution_count": 21,
   "id": "938799e4-2561-40d6-bdd1-f5cdc850aa47",
   "metadata": {},
   "outputs": [],
   "source": [
    "photos_important_info_df.to_csv(\"photos_info.csv\")\n",
    "photos_important_info_df.to_excel(\n",
    "    excel_writer=\"photos_info.xlsx\", sheet_name=\"PhotosMetadata\")"
   ]
  },
  {
   "cell_type": "code",
   "execution_count": null,
   "id": "1254f475-fe96-416f-8144-6d0355cf9dea",
   "metadata": {},
   "outputs": [],
   "source": []
  },
  {
   "cell_type": "code",
   "execution_count": null,
   "id": "698c94ef-c1eb-468b-8b0f-84f4f1e9a86a",
   "metadata": {},
   "outputs": [],
   "source": []
  }
 ],
 "metadata": {
  "kernelspec": {
   "display_name": "Python 3 (ipykernel)",
   "language": "python",
   "name": "python3"
  },
  "language_info": {
   "codemirror_mode": {
    "name": "ipython",
    "version": 3
   },
   "file_extension": ".py",
   "mimetype": "text/x-python",
   "name": "python",
   "nbconvert_exporter": "python",
   "pygments_lexer": "ipython3",
   "version": "3.11.4"
  }
 },
 "nbformat": 4,
 "nbformat_minor": 5
}
